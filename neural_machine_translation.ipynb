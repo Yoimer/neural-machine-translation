{
  "nbformat": 4,
  "nbformat_minor": 0,
  "metadata": {
    "colab": {
      "name": "neural-machine-translation.ipynb",
      "provenance": []
    },
    "kernelspec": {
      "name": "python3",
      "display_name": "Python 3"
    }
  },
  "cells": [
    {
      "cell_type": "code",
      "metadata": {
        "id": "dI6YvwuyVmNM",
        "colab_type": "code",
        "colab": {}
      },
      "source": [
        "# This tutorial is to Develop a Deep Learning Model to Automatically\n",
        "# Translate from German to English in Python with Keras, Step-by-Step.\n",
        "# Machine translation is a challenging task that traditionally involves large statistical models \n",
        "# developed using highly sophisticated linguistic knowledge.\n",
        "\n",
        "# Neural machine translation is the use of deep neural networks for the problem of machine translation.\n",
        "\n",
        "# In this tutorial, you will discover how to develop a neural machine translation system for translating German phrases to English.\n",
        "\n",
        "# After completing this tutorial, you will know:\n",
        "\n",
        "# How to clean and prepare data ready to train a neural machine translation system.\n",
        "# How to develop an encoder-decoder model for machine translation.\n",
        "# How to use a trained model for inference on new input phrases and evaluate the model skill.\n",
        "\n",
        "# Tutorial Overview\n",
        "# This tutorial is divided into 4 parts; they are:\n",
        "\n",
        "# German to English Translation Dataset\n",
        "# Preparing the Text Data\n",
        "# Train Neural Translation Model\n",
        "# Evaluate Neural Translation Model\n",
        "# Python Environment\n",
        "# This tutorial assumes you have a Python 3 SciPy environment installed.\n",
        "\n",
        "# You must have Keras (2.0 or higher) installed with either the TensorFlow or Theano backend.\n",
        "\n",
        "# The tutorial also assumes you have NumPy and Matplotlib installed.\n",
        "\n",
        "# If you need help with your environment, see this post:\n",
        "\n",
        "# How to Setup a Python Environment for Machine Learning and Deep Learning with Anaconda\n",
        "\n",
        "# https://machinelearningmastery.com/setup-python-environment-machine-learning-deep-learning-anaconda/\n",
        "\n",
        "# A GPU is not require for thus tutorial, nevertheless, you can access GPUs cheaply on Amazon Web Services. Learn how in this tutorial:\n",
        "\n",
        "# https://machinelearningmastery.com/develop-evaluate-large-deep-learning-models-keras-amazon-web-services/\n",
        "\n",
        "# How to Setup Amazon AWS EC2 GPUs to Train Keras Deep Learning Models (step-by-step)\n",
        "# Let’s dive in.\n",
        "\n",
        "# German to English Translation Dataset\n",
        "# In this tutorial, we will use a dataset of German to English terms used as the basis for flashcards for language learning.\n",
        "\n",
        "# The dataset is available from the ManyThings.org website, with examples drawn from the Tatoeba Project. The dataset is comprised of German phrases and their English counterparts and is intended to be used with the Anki flashcard software.\n",
        "\n",
        "# The page provides a list of many language pairs, and I encourage you to explore other languages:\n",
        "\n",
        "# Tab-delimited Bilingual Sentence Pairs\n",
        "# The dataset we will use in this tutorial is available for download here:\n",
        "\n",
        "# German – English deu-eng.zip\n",
        "# http://www.manythings.org/anki/deu-eng.zip\n",
        "\n",
        "# Download the dataset to your current working directory and decompress; for example:\n"
      ],
      "execution_count": 0,
      "outputs": []
    },
    {
      "cell_type": "code",
      "metadata": {
        "id": "DIsFL6NMpxeT",
        "colab_type": "code",
        "outputId": "d17ce8bc-edca-4fa9-9668-885c125ce31d",
        "colab": {
          "base_uri": "https://localhost:8080/",
          "height": 204
        }
      },
      "source": [
        "!wget http://www.manythings.org/anki/deu-eng.zip"
      ],
      "execution_count": 0,
      "outputs": [
        {
          "output_type": "stream",
          "text": [
            "--2019-10-02 12:34:48--  http://www.manythings.org/anki/deu-eng.zip\n",
            "Resolving www.manythings.org (www.manythings.org)... 104.24.108.196, 104.24.109.196, 2606:4700:30::6818:6cc4, ...\n",
            "Connecting to www.manythings.org (www.manythings.org)|104.24.108.196|:80... connected.\n",
            "HTTP request sent, awaiting response... 200 OK\n",
            "Length: 4541707 (4.3M) [application/zip]\n",
            "Saving to: ‘deu-eng.zip’\n",
            "\n",
            "\rdeu-eng.zip           0%[                    ]       0  --.-KB/s               \rdeu-eng.zip          19%[==>                 ] 881.64K  3.93MB/s               \rdeu-eng.zip         100%[===================>]   4.33M  14.8MB/s    in 0.3s    \n",
            "\n",
            "2019-10-02 12:34:49 (14.8 MB/s) - ‘deu-eng.zip’ saved [4541707/4541707]\n",
            "\n"
          ],
          "name": "stdout"
        }
      ]
    },
    {
      "cell_type": "code",
      "metadata": {
        "id": "ub6_y7lArRwj",
        "colab_type": "code",
        "outputId": "cc03c08d-dd03-423c-9078-8b9bb55a554c",
        "colab": {
          "base_uri": "https://localhost:8080/",
          "height": 68
        }
      },
      "source": [
        "!unzip deu-eng.zip # remeber to open a notebook in google colab"
      ],
      "execution_count": 0,
      "outputs": [
        {
          "output_type": "stream",
          "text": [
            "Archive:  deu-eng.zip\n",
            "  inflating: deu.txt                 \n",
            "  inflating: _about.txt              \n"
          ],
          "name": "stdout"
        }
      ]
    },
    {
      "cell_type": "code",
      "metadata": {
        "id": "PeGn-6ldrfpE",
        "colab_type": "code",
        "colab": {}
      },
      "source": [
        "# You will have a file called deu.txt that contains 152,820 pairs of English to German phases, one pair per line with a tab separating the language.\n",
        "\n",
        "# For example, the first 5 lines of the file look as follows:\n",
        "\n",
        "# Hi. Hallo!\n",
        "# Hi. Grüß Gott!\n",
        "# Run!    Lauf!\n",
        "# Wow!    Potzdonner!\n",
        "# Wow!    Donnerwetter!\n",
        "# 1\n",
        "# 2\n",
        "# 3\n",
        "# 4\n",
        "# 5\n",
        "# Hi. Hallo!\n",
        "# Hi. Grüß Gott!\n",
        "# Run!    Lauf!\n",
        "# Wow!    Potzdonner!\n",
        "# Wow!    Donnerwetter!\n",
        "\n",
        "\n",
        "# We will frame the prediction problem as given a sequence of words in German as input, translate or predict the sequence of words in English.\n",
        "\n",
        "# The model we will develop will be suitable for some beginner German phrases.\n",
        "\n",
        "# Preparing the Text Data\n",
        "# The next step is to prepare the text data ready for modeling.\n",
        "\n",
        "# If you are new to cleaning text data, see this post:"
      ],
      "execution_count": 0,
      "outputs": []
    },
    {
      "cell_type": "code",
      "metadata": {
        "id": "9HivtJRmse7P",
        "colab_type": "code",
        "colab": {}
      },
      "source": [
        "# How to Clean Text for Machine Learning with Python\n",
        "# https://machinelearningmastery.com/clean-text-machine-learning-python/\n",
        "\n",
        "# Take a look at the raw data and note what you see that we might need to handle in a data cleaning operation.\n",
        "\n",
        "# For example, here are some observations I note from reviewing the raw data:\n",
        "\n",
        "# There is punctuation.\n",
        "# The text contains uppercase and lowercase.\n",
        "# There are special characters in the German.\n",
        "# There are duplicate phrases in English with different translations in German.\n",
        "# The file is ordered by sentence length with very long sentences toward the end of the file.\n",
        "# Did you note anything else that could be important?\n",
        "# Let me know in the comments below.\n",
        "\n",
        "# A good text cleaning procedure may handle some or all of these observations.\n",
        "\n",
        "# Data preparation is divided into two subsections:\n",
        "\n",
        "# Clean Text\n",
        "# Split Text\n",
        "# 1. Clean Text\n",
        "# First, we must load the data in a way that preserves the Unicode German characters. The function below called load_doc() will load the file as a blob of text.\n",
        "\n",
        "# load doc into memory\n",
        "def load_doc(filename):\n",
        "    # open the file as read only\n",
        "    file = open(filename, mode='rt', encoding='utf-8')\n",
        "    # read all text\n",
        "    text = file.read()\n",
        "    # close the file\n",
        "    file.close()\n",
        "    return text"
      ],
      "execution_count": 0,
      "outputs": []
    },
    {
      "cell_type": "code",
      "metadata": {
        "id": "RIzMfqV0Z_AQ",
        "colab_type": "code",
        "colab": {}
      },
      "source": [
        "# Each line contains a single pair of phrases, \n",
        "# first English and then German, separated by a tab character.\n",
        "# We must split the loaded text by line and then by phrase.\n",
        "# The function to_pairs() below will split the loaded text.\n",
        "\n",
        "# split a loaded document into sentences\n",
        "def to_pairs(doc):\n",
        "    lines = doc.strip().split('\\n')\n",
        "    pairs = [line.split('\\t') for line in  lines]\n",
        "    return pairs"
      ],
      "execution_count": 0,
      "outputs": []
    },
    {
      "cell_type": "code",
      "metadata": {
        "id": "Njz8GBw6aDBr",
        "colab_type": "code",
        "colab": {}
      },
      "source": [
        "# We are now ready to clean each sentence. The specific cleaning operations we will perform are as follows:\n",
        "\n",
        "# Remove all non-printable characters.\n",
        "# Remove all punctuation characters.\n",
        "# Normalize all Unicode characters to ASCII (e.g. Latin characters).\n",
        "# Normalize the case to lowercase.\n",
        "# Remove any remaining tokens that are not alphabetic.\n",
        "# We will perform these operations on each phrase for each pair in the loaded dataset.\n",
        "\n",
        "# The clean_pairs() function below implements these operations.\n",
        "\n",
        "# clean a list of lines\n",
        "def clean_pairs(lines):\n",
        "    cleaned = list()\n",
        "    # prepare regex for char filtering\n",
        "    re_print = re.compile('[^%s]' % re.escape(string.printable))\n",
        "    # prepare translation table for removing punctuation\n",
        "    table = str.maketrans('', '', string.punctuation)\n",
        "    for pair in lines:\n",
        "        clean_pair = list()\n",
        "        for line in pair:\n",
        "            # normalize unicode characters\n",
        "            line = normalize('NFD', line).encode('ascii', 'ignore')\n",
        "            line = line.decode('UTF-8')\n",
        "            # tokenize on white space\n",
        "            line = line.split()\n",
        "            # convert to lowercase\n",
        "            line = [word.lower() for word in line]\n",
        "            # remove punctuation from each token\n",
        "            line = [word.translate(table) for word in line]\n",
        "            # remove non-printable chars form each token\n",
        "            line = [re_print.sub('', w) for w in line]\n",
        "            # remove tokens with numbers in them\n",
        "            line = [word for word in line if word.isalpha()]\n",
        "            # store as string\n",
        "            clean_pair.append(' '.join(line))\n",
        "        cleaned.append(clean_pair)\n",
        "    return array(cleaned)"
      ],
      "execution_count": 0,
      "outputs": []
    },
    {
      "cell_type": "code",
      "metadata": {
        "id": "fii1OILAeIzz",
        "colab_type": "code",
        "colab": {}
      },
      "source": [
        ""
      ],
      "execution_count": 0,
      "outputs": []
    },
    {
      "cell_type": "code",
      "metadata": {
        "id": "5g0gLmHxeJI8",
        "colab_type": "code",
        "colab": {}
      },
      "source": [
        "# Finally, now that the data has been cleaned,\n",
        "# we can save the list of phrase pairs to a file ready for use.\n",
        "\n",
        "# The function save_clean_data() uses the pickle API to \n",
        "# save the list of clean text to file.\n",
        "\n",
        "# Pulling all of this together, the complete example is listed below.\n",
        "\n",
        "import string\n",
        "import re\n",
        "from pickle import dump\n",
        "from unicodedata import normalize\n",
        "from numpy import array\n",
        "\n",
        "# load doc into memory\n",
        "def load_doc(filename):\n",
        "    # open the file as read only\n",
        "    file = open(filename, mode='rt', encoding='utf-8')\n",
        "    # read all text\n",
        "    text = file.read()\n",
        "    # close the file\n",
        "    file.close()\n",
        "    return text\n",
        "\n",
        "# split a loaded document into sentences\n",
        "def to_pairs(doc):\n",
        "    lines = doc.strip().split('\\n')\n",
        "    pairs = [line.split('\\t') for line in  lines]\n",
        "    return pairs\n",
        " \n",
        "# clean a list of lines\n",
        "def clean_pairs(lines):\n",
        "    cleaned = list()\n",
        "    # prepare regex for char filtering\n",
        "    re_print = re.compile('[^%s]' % re.escape(string.printable))\n",
        "    # prepare translation table for removing punctuation\n",
        "    table = str.maketrans('', '', string.punctuation)\n",
        "    for pair in lines:\n",
        "        clean_pair = list()\n",
        "        for line in pair:\n",
        "            # normalize unicode characters\n",
        "            line = normalize('NFD', line).encode('ascii', 'ignore')\n",
        "            line = line.decode('UTF-8')\n",
        "            # tokenize on white space\n",
        "            line = line.split()\n",
        "            # convert to lowercase\n",
        "            line = [word.lower() for word in line]\n",
        "            # remove punctuation from each token\n",
        "            line = [word.translate(table) for word in line]\n",
        "            # remove non-printable chars form each token\n",
        "            line = [re_print.sub('', w) for w in line]\n",
        "            # remove tokens with numbers in them\n",
        "            line = [word for word in line if word.isalpha()]\n",
        "            # store as string\n",
        "            clean_pair.append(' '.join(line))\n",
        "        cleaned.append(clean_pair)\n",
        "    return array(cleaned)\n",
        " \n",
        "# save a list of clean sentences to file\n",
        "def save_clean_data(sentences, filename):\n",
        "    dump(sentences, open(filename, 'wb'))\n",
        "    print('Saved: %s' % filename)\n",
        " \n",
        "# load dataset\n",
        "filename = 'deu.txt'\n",
        "doc = load_doc(filename)\n",
        "# split into english-german pairs\n",
        "pairs = to_pairs(doc)\n",
        "# clean sentences\n",
        "clean_pairs = clean_pairs(pairs)\n",
        "# save clean pairs to file\n",
        "save_clean_data(clean_pairs, 'english-german.pkl')\n",
        "# spot check\n",
        "for i in range(100):\n",
        "    print('[%s] => [%s]' % (clean_pairs[i,0], clean_pairs[i,1]))"
      ],
      "execution_count": 0,
      "outputs": []
    },
    {
      "cell_type": "code",
      "metadata": {
        "id": "PTwCZpEJhdEn",
        "colab_type": "code",
        "colab": {}
      },
      "source": [
        "# 2. Split Text\n",
        "# The clean data contains a little over 150,000 phrase pairs and some of the \n",
        "# pairs toward the end of the file are very long.\n",
        "\n",
        "# This is a good number of examples for developing a small translation model.\n",
        "# The complexity of the model increases with the number of examples, length of phrases, and size of \n",
        "# the vocabulary.\n",
        "\n",
        "# Although we have a good dataset for modeling translation, \n",
        "# we will simplify the problem slightly to dramatically reduce the size of the model required, \n",
        "# and in turn the training time required to fit the model.\n",
        "\n",
        "# You can explore developing a model on the fuller dataset as an extension; \n",
        "# I would love to hear how you do.\n",
        "\n",
        "# We will simplify the problem by reducing the dataset to the \n",
        "# first 10,000 examples in the file; these will be the shortest phrases in the dataset.\n",
        "\n",
        "# Further, we will then stake the first 9,000 of those as examples for training and the remaining \n",
        "# 1,000 examples to test the fit model.\n",
        "\n",
        "# Below is the complete example of loading the clean data, splitting it,\n",
        "# and saving the split portions of data to new files.\n",
        "\n",
        "from pickle import load\n",
        "from pickle import dump\n",
        "from numpy.random import rand\n",
        "from numpy.random import shuffle\n",
        " \n",
        "# load a clean dataset\n",
        "def load_clean_sentences(filename):\n",
        "    return load(open(filename, 'rb'))\n",
        " \n",
        "# save a list of clean sentences to file\n",
        "def save_clean_data(sentences, filename):\n",
        "    dump(sentences, open(filename, 'wb'))\n",
        "    print('Saved: %s' % filename)\n",
        "\n",
        "# load dataset\n",
        "raw_dataset = load_clean_sentences('english-german.pkl')\n",
        "\n",
        "# reduce dataset size\n",
        "n_sentences = 10000\n",
        "dataset = raw_dataset[:n_sentences, :]\n",
        "# random shuffle\n",
        "shuffle(dataset)\n",
        "# split into train/test\n",
        "train, test = dataset[:9000], dataset[9000:]\n",
        "# save\n",
        "save_clean_data(dataset, 'english-german-both.pkl')\n",
        "save_clean_data(train, 'english-german-train.pkl')\n",
        "save_clean_data(test, 'english-german-test.pkl')\n"
      ],
      "execution_count": 0,
      "outputs": []
    },
    {
      "cell_type": "code",
      "metadata": {
        "id": "UW7jZFQhv4zp",
        "colab_type": "code",
        "colab": {}
      },
      "source": [
        "# Running the example creates three new files: \n",
        "# the english-german-both.pkl that contains all of the train \n",
        "# and test examples that we can use to define the parameters of the problem, \n",
        "# such as max phrase lengths and the vocabulary, and the english-german-train.pkl \n",
        "# and english-german-test.pkl files for the train and test dataset.\n",
        "\n",
        "# We are now ready to start developing our translation model.\n",
        "\n",
        "# Train Neural Translation Model\n",
        "# In this section, we will develop the neural translation model.\n",
        "\n",
        "# If you are new to neural translation models, see the post:\n",
        "\n",
        "# A Gentle Introduction to Neural Machine Translation\n",
        "# https://machinelearningmastery.com/introduction-neural-machine-translation/\n",
        "# This involves both loading and preparing the clean text data ready \n",
        "# for modeling and defining and training the model on the prepared data.\n",
        "\n",
        "# Let’s start off by loading the datasets so that we can prepare the data. \n",
        "# The function below named load_clean_sentences() can be used to load the train, \n",
        "# test, and both datasets in turn.\n",
        "\n",
        "# We will use the “both” or combination of the train and test datasets to define \n",
        "# the maximum length and vocabulary of the problem.\n",
        "\n",
        "# This is for simplicity. Alternately, we could define these properties \n",
        "# from the training dataset alone and truncate examples in the test \n",
        "# set that are too long or have words that are out of the vocabulary.\n",
        "\n",
        "# We can use the Keras Tokenize class to map words to integers, as \n",
        "# needed for modeling. We will use separate tokenizer for the \n",
        "# English sequences and the German sequences. \n",
        "# The function below-named create_tokenizer()\n",
        "#  will train a tokenizer on a list of phrases.\n",
        "\n",
        "# fit a tokenizer\n",
        "def create_tokenizer(lines):\n",
        "    tokenizer = Tokenizer()\n",
        "    tokenizer.fit_on_texts(lines)\n",
        "    return tokenizer\n",
        "\n",
        "# Similarly, the function named max_length()\n",
        "# below will find the length of the longest sequence in a list of phrases.\n",
        "\n",
        "# max sentence length\n",
        "def max_length(lines):\n",
        "    return max(len(line.split()) for line in lines)\n",
        "\n",
        "# max sentence length\n",
        "def max_length(lines):\n",
        "    return max(len(line.split()) for line in lines)\n"
      ],
      "execution_count": 0,
      "outputs": []
    },
    {
      "cell_type": "code",
      "metadata": {
        "id": "Z-yz0Udb1Dq4",
        "colab_type": "code",
        "colab": {}
      },
      "source": [
        "# install tokenizer\n",
        "!pip3 install tokenizer"
      ],
      "execution_count": 0,
      "outputs": []
    },
    {
      "cell_type": "code",
      "metadata": {
        "id": "V3s_SRe854As",
        "colab_type": "code",
        "outputId": "e48a2ba8-9cff-412a-f658-401642150270",
        "colab": {
          "base_uri": "https://localhost:8080/",
          "height": 34
        }
      },
      "source": [
        "from keras.preprocessing.text import Tokenizer"
      ],
      "execution_count": 0,
      "outputs": [
        {
          "output_type": "stream",
          "text": [
            "Using TensorFlow backend.\n"
          ],
          "name": "stderr"
        }
      ]
    },
    {
      "cell_type": "code",
      "metadata": {
        "id": "Tco3JPYe1lME",
        "colab_type": "code",
        "colab": {}
      },
      "source": [
        "# prepare english tokenizer\n",
        "eng_tokenizer = create_tokenizer(dataset[:, 0])\n",
        "eng_vocab_size = len(eng_tokenizer.word_index) + 1\n",
        "eng_length = max_length(dataset[:, 0])\n",
        "print('English Vocabulary Size: %d' % eng_vocab_size)\n",
        "print('English Max Length: %d' % (eng_length))\n"
      ],
      "execution_count": 0,
      "outputs": []
    },
    {
      "cell_type": "code",
      "metadata": {
        "id": "DaGka3Lw6rTa",
        "colab_type": "code",
        "colab": {}
      },
      "source": [
        "# prepare german tokenizer\n",
        "ger_tokenizer = create_tokenizer(dataset[:, 1])\n",
        "ger_vocab_size = len(ger_tokenizer.word_index) + 1\n",
        "ger_length = max_length(dataset[:, 1])\n",
        "print('German Vocabulary Size: %d' % ger_vocab_size)\n",
        "print('German Max Length: %d' % (ger_length))"
      ],
      "execution_count": 0,
      "outputs": []
    },
    {
      "cell_type": "code",
      "metadata": {
        "id": "HQRmuKaB_yfB",
        "colab_type": "code",
        "colab": {}
      },
      "source": [
        "# We are now ready to prepare the training dataset.\n",
        "\n",
        "# Each input and output sequence must be encoded to \n",
        "# integers and padded to the maximum phrase length. \n",
        "# This is because we will use a word embedding for the input sequences \n",
        "# and one hot encode the output sequences \n",
        "# The function below named encode_sequences() \n",
        "# will perform these operations and return the result.\n",
        "\n",
        "# encode and pad sequences\n",
        "def encode_sequences(tokenizer, length, lines):\n",
        "    # integer encode sequences\n",
        "    X = tokenizer.texts_to_sequences(lines)\n",
        "    # pad sequences with 0 values\n",
        "    X = pad_sequences(X, maxlen=length, padding='post')\n",
        "    return X\n",
        "\n",
        "\n",
        "# The output sequence needs to be one-hot encoded. \n",
        "# This is because the model will predict the probability\n",
        "# of each word in the vocabulary as output.\n",
        "\n",
        "# The function encode_output() \n",
        "# below will one-hot encode English output sequences.\n",
        "\n",
        "# one hot encode target sequence\n",
        "def encode_output(sequences, vocab_size):\n",
        "    ylist = list()\n",
        "    for sequence in sequences:\n",
        "        encoded = to_categorical(sequence, num_classes=vocab_size)\n",
        "        ylist.append(encoded)\n",
        "    y = array(ylist)\n",
        "    y = y.reshape(sequences.shape[0], sequences.shape[1], vocab_size)\n",
        "    return y\n"
      ],
      "execution_count": 0,
      "outputs": []
    },
    {
      "cell_type": "code",
      "metadata": {
        "id": "H6yWvML4xNUG",
        "colab_type": "code",
        "colab": {}
      },
      "source": [
        "from keras.preprocessing.sequence import pad_sequences\n",
        "\n",
        "from keras.utils import to_categorical\n",
        "\n",
        "# We can make use of these two functions and prepare both the \n",
        "# train and test dataset ready for training the model.\n",
        "\n",
        "# prepare training data\n",
        "trainX = encode_sequences(ger_tokenizer, ger_length, train[:, 1])\n",
        "trainY = encode_sequences(eng_tokenizer, eng_length, train[:, 0])\n",
        "trainY = encode_output(trainY, eng_vocab_size)"
      ],
      "execution_count": 0,
      "outputs": []
    },
    {
      "cell_type": "code",
      "metadata": {
        "id": "JbyQ9lFb0vcr",
        "colab_type": "code",
        "colab": {}
      },
      "source": [
        "# prepare validation data\n",
        "testX = encode_sequences(ger_tokenizer, ger_length, test[:, 1])\n",
        "testY = encode_sequences(eng_tokenizer, eng_length, test[:, 0])\n",
        "testY = encode_output(testY, eng_vocab_size)"
      ],
      "execution_count": 0,
      "outputs": []
    },
    {
      "cell_type": "code",
      "metadata": {
        "id": "cag75BNg5bxg",
        "colab_type": "code",
        "colab": {
          "base_uri": "https://localhost:8080/",
          "height": 967
        },
        "outputId": "758b8acc-b6d7-43af-ad92-01a4444ef724"
      },
      "source": [
        "# We are now ready to define the model.\n",
        "\n",
        "# We will use an encoder-decoder LSTM model on this problem. In this architecture, \n",
        "# the input sequence is encoded by a front-end model called \n",
        "# the encoder then decoded word by word by a backend model called the decoder.\n",
        "\n",
        "# The function define_model() below defines the model and takes a \n",
        "# number of arguments used to configure the model, \n",
        "# such as the size of the input and output vocabularies, \n",
        "# the maximum length of input and output phrases, \n",
        "# and the number of memory units used to configure the model.\n",
        "\n",
        "# The model is trained using the efficient Adam \n",
        "# approach to stochastic gradient descent and minimizes \n",
        "# the categorical loss function because \n",
        "# we have framed the prediction problem as multi-class classification.\n",
        "\n",
        "# The model configuration was not optimized for \n",
        "# this problem, meaning that there is plenty of opportunity for you to tune it and lift the skill \n",
        "# of the translations. I would love to see what you can come up with.\n",
        "\n",
        "# For more advice on configuring neural machine translation models, see the post:\n",
        "\n",
        "# How to Configure an Encoder-Decoder Model for Neural Machine Translation\n",
        "\n",
        "# https://machinelearningmastery.com/configure-encoder-decoder-model-neural-machine-translation/\n",
        "\n",
        "from keras.models import Sequential\n",
        "\n",
        "from keras.layers import Embedding\n",
        "\n",
        "from keras.layers import LSTM\n",
        "\n",
        "from keras.layers import RepeatVector\n",
        "\n",
        "from keras.layers import TimeDistributed\n",
        "\n",
        "from keras.layers import Dense\n",
        "\n",
        "from keras.utils.vis_utils import plot_model\n",
        "\n",
        "# define NMT model\n",
        "def define_model(src_vocab, tar_vocab, src_timesteps, tar_timesteps, n_units):\n",
        "    model = Sequential()\n",
        "    model.add(Embedding(src_vocab, n_units, input_length=src_timesteps, mask_zero=True))\n",
        "    model.add(LSTM(n_units))\n",
        "    model.add(RepeatVector(tar_timesteps))\n",
        "    model.add(LSTM(n_units, return_sequences=True))\n",
        "    model.add(TimeDistributed(Dense(tar_vocab, activation='softmax')))\n",
        "    return model\n",
        " \n",
        "# define model\n",
        "model = define_model(ger_vocab_size, eng_vocab_size, ger_length, eng_length, 256)\n",
        "model.compile(optimizer='adam', loss='categorical_crossentropy')\n",
        "\n",
        "# summarize defined model\n",
        "print(model.summary())\n",
        "plot_model(model, to_file='model.png', show_shapes=True)"
      ],
      "execution_count": 74,
      "outputs": [
        {
          "output_type": "stream",
          "text": [
            "Model: \"sequential_5\"\n",
            "_________________________________________________________________\n",
            "Layer (type)                 Output Shape              Param #   \n",
            "=================================================================\n",
            "embedding_4 (Embedding)      (None, 10, 256)           908032    \n",
            "_________________________________________________________________\n",
            "lstm_5 (LSTM)                (None, 256)               525312    \n",
            "_________________________________________________________________\n",
            "repeat_vector_3 (RepeatVecto (None, 5, 256)            0         \n",
            "_________________________________________________________________\n",
            "lstm_6 (LSTM)                (None, 5, 256)            525312    \n",
            "_________________________________________________________________\n",
            "time_distributed_2 (TimeDist (None, 5, 2215)           569255    \n",
            "=================================================================\n",
            "Total params: 2,527,911\n",
            "Trainable params: 2,527,911\n",
            "Non-trainable params: 0\n",
            "_________________________________________________________________\n",
            "None\n"
          ],
          "name": "stdout"
        },
        {
          "output_type": "execute_result",
          "data": {
            "image/png": "[encoded data removed]",
            "text/plain": [
              "<IPython.core.display.Image object>"
            ]
          },
          "metadata": {
            "tags": []
          },
          "execution_count": 74
        }
      ]
    }
  ]
}