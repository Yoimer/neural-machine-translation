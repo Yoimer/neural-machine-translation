{
  "nbformat": 4,
  "nbformat_minor": 0,
  "metadata": {
    "colab": {
      "name": "neural-machine-translation.ipynb",
      "provenance": []
    },
    "kernelspec": {
      "name": "python3",
      "display_name": "Python 3"
    }
  },
  "cells": [
    {
      "cell_type": "code",
      "metadata": {
        "id": "dI6YvwuyVmNM",
        "colab_type": "code",
        "colab": {}
      },
      "source": [
        "# This tutorial is to Develop a Deep Learning Model to Automatically\n",
        "# Translate from German to English in Python with Keras, Step-by-Step.\n",
        "# Machine translation is a challenging task that traditionally involves large statistical models \n",
        "# developed using highly sophisticated linguistic knowledge.\n",
        "\n",
        "# Neural machine translation is the use of deep neural networks for the problem of machine translation.\n",
        "\n",
        "# In this tutorial, you will discover how to develop a neural machine translation system for translating German phrases to English.\n",
        "\n",
        "# After completing this tutorial, you will know:\n",
        "\n",
        "# How to clean and prepare data ready to train a neural machine translation system.\n",
        "# How to develop an encoder-decoder model for machine translation.\n",
        "# How to use a trained model for inference on new input phrases and evaluate the model skill.\n",
        "\n",
        "# Tutorial Overview\n",
        "# This tutorial is divided into 4 parts; they are:\n",
        "\n",
        "# German to English Translation Dataset\n",
        "# Preparing the Text Data\n",
        "# Train Neural Translation Model\n",
        "# Evaluate Neural Translation Model\n",
        "# Python Environment\n",
        "# This tutorial assumes you have a Python 3 SciPy environment installed.\n",
        "\n",
        "# You must have Keras (2.0 or higher) installed with either the TensorFlow or Theano backend.\n",
        "\n",
        "# The tutorial also assumes you have NumPy and Matplotlib installed.\n",
        "\n",
        "# If you need help with your environment, see this post:\n",
        "\n",
        "# How to Setup a Python Environment for Machine Learning and Deep Learning with Anaconda\n",
        "\n",
        "# https://machinelearningmastery.com/setup-python-environment-machine-learning-deep-learning-anaconda/\n",
        "\n",
        "# A GPU is not require for thus tutorial, nevertheless, you can access GPUs cheaply on Amazon Web Services. Learn how in this tutorial:\n",
        "\n",
        "# https://machinelearningmastery.com/develop-evaluate-large-deep-learning-models-keras-amazon-web-services/\n",
        "\n",
        "# How to Setup Amazon AWS EC2 GPUs to Train Keras Deep Learning Models (step-by-step)\n",
        "# Let’s dive in.\n",
        "\n",
        "# German to English Translation Dataset\n",
        "# In this tutorial, we will use a dataset of German to English terms used as the basis for flashcards for language learning.\n",
        "\n",
        "# The dataset is available from the ManyThings.org website, with examples drawn from the Tatoeba Project. The dataset is comprised of German phrases and their English counterparts and is intended to be used with the Anki flashcard software.\n",
        "\n",
        "# The page provides a list of many language pairs, and I encourage you to explore other languages:\n",
        "\n",
        "# Tab-delimited Bilingual Sentence Pairs\n",
        "# The dataset we will use in this tutorial is available for download here:\n",
        "\n",
        "# German – English deu-eng.zip\n",
        "# http://www.manythings.org/anki/deu-eng.zip\n",
        "\n",
        "# Download the dataset to your current working directory and decompress; for example:\n"
      ],
      "execution_count": 0,
      "outputs": []
    },
    {
      "cell_type": "code",
      "metadata": {
        "id": "DIsFL6NMpxeT",
        "colab_type": "code",
        "colab": {}
      },
      "source": [
        "!wget http://www.manythings.org/anki/deu-eng.zip"
      ],
      "execution_count": 0,
      "outputs": []
    },
    {
      "cell_type": "code",
      "metadata": {
        "id": "ub6_y7lArRwj",
        "colab_type": "code",
        "colab": {}
      },
      "source": [
        "!unzip deu-eng.zip # remeber to open a notebook in google colab"
      ],
      "execution_count": 0,
      "outputs": []
    },
    {
      "cell_type": "code",
      "metadata": {
        "id": "PeGn-6ldrfpE",
        "colab_type": "code",
        "colab": {}
      },
      "source": [
        "# You will have a file called deu.txt that contains 152,820 pairs of English to German phases, one pair per line with a tab separating the language.\n",
        "\n",
        "# For example, the first 5 lines of the file look as follows:\n",
        "\n",
        "# Hi. Hallo!\n",
        "# Hi. Grüß Gott!\n",
        "# Run!    Lauf!\n",
        "# Wow!    Potzdonner!\n",
        "# Wow!    Donnerwetter!\n",
        "# 1\n",
        "# 2\n",
        "# 3\n",
        "# 4\n",
        "# 5\n",
        "# Hi. Hallo!\n",
        "# Hi. Grüß Gott!\n",
        "# Run!    Lauf!\n",
        "# Wow!    Potzdonner!\n",
        "# Wow!    Donnerwetter!\n",
        "\n",
        "\n",
        "# We will frame the prediction problem as given a sequence of words in German as input, translate or predict the sequence of words in English.\n",
        "\n",
        "# The model we will develop will be suitable for some beginner German phrases.\n",
        "\n",
        "# Preparing the Text Data\n",
        "# The next step is to prepare the text data ready for modeling.\n",
        "\n",
        "# If you are new to cleaning text data, see this post:"
      ],
      "execution_count": 0,
      "outputs": []
    },
    {
      "cell_type": "code",
      "metadata": {
        "id": "9HivtJRmse7P",
        "colab_type": "code",
        "colab": {}
      },
      "source": [
        "# How to Clean Text for Machine Learning with Python\n",
        "# https://machinelearningmastery.com/clean-text-machine-learning-python/\n",
        "\n",
        "# Take a look at the raw data and note what you see that we might need to handle in a data cleaning operation.\n",
        "\n",
        "# For example, here are some observations I note from reviewing the raw data:\n",
        "\n",
        "# There is punctuation.\n",
        "# The text contains uppercase and lowercase.\n",
        "# There are special characters in the German.\n",
        "# There are duplicate phrases in English with different translations in German.\n",
        "# The file is ordered by sentence length with very long sentences toward the end of the file.\n",
        "# Did you note anything else that could be important?\n",
        "# Let me know in the comments below.\n",
        "\n",
        "# A good text cleaning procedure may handle some or all of these observations.\n",
        "\n",
        "# Data preparation is divided into two subsections:\n",
        "\n",
        "# Clean Text\n",
        "# Split Text\n",
        "# 1. Clean Text\n",
        "# First, we must load the data in a way that preserves the Unicode German characters. The function below called load_doc() will load the file as a blob of text.\n",
        "\n",
        "# load doc into memory\n",
        "def load_doc(filename):\n",
        "    # open the file as read only\n",
        "    file = open(filename, mode='rt', encoding='utf-8')\n",
        "    # read all text\n",
        "    text = file.read()\n",
        "    # close the file\n",
        "    file.close()\n",
        "    return text"
      ],
      "execution_count": 0,
      "outputs": []
    }
  ]
}